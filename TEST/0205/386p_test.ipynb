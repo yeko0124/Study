{
 "cells": [
  {
   "cell_type": "code",
   "execution_count": 4,
   "id": "7a105eec-f85e-4cfc-adcd-aed28e499a4a",
   "metadata": {},
   "outputs": [
    {
     "name": "stdout",
     "output_type": "stream",
     "text": [
      "a#b#c#d\n"
     ]
    }
   ],
   "source": [
    "#Q1 문자열 바꾸기\n",
    "\n",
    "a = 'a:b:c:d'\n",
    "b = a.split(':')\n",
    "a = '#'.join(b)\n",
    "\n",
    "print(a)"
   ]
  },
  {
   "cell_type": "code",
   "execution_count": 757,
   "id": "ce1148bf-e280-4b7c-bd6f-7b31446cf7bc",
   "metadata": {},
   "outputs": [
    {
     "data": {
      "text/plain": [
       "80"
      ]
     },
     "execution_count": 757,
     "metadata": {},
     "output_type": "execute_result"
    }
   ],
   "source": [
    "#Q2 딕셔너리 값 추출하기\n",
    "\n",
    "a = {'A':90, 'B':80}\n",
    "a['C']=70\n",
    "\n",
    "a['C']\n",
    "\n",
    "########## 책 답안지 ###########\n",
    "# get을 활용\n",
    "a.get('D', 80)"
   ]
  },
  {
   "cell_type": "code",
   "execution_count": 376,
   "id": "d0a33016-b6f6-4184-bb3c-edb9319fbf44",
   "metadata": {},
   "outputs": [
    {
     "name": "stdout",
     "output_type": "stream",
     "text": [
      "list a+b: [1, 2, 3, 4, 5, 6] \n",
      "list a: [1, 2, 3] \n",
      "list b: [4, 5, 6]\n",
      "\n",
      "list a: [1, 2, 3, 4, 5, 6] \n",
      "list b: [4, 5, 6]\n"
     ]
    }
   ],
   "source": [
    "#Q3 리스트의 더하기와 extend의 차이점\n",
    "\n",
    "a = [1, 2, 3]\n",
    "b = [4, 5, 6]\n",
    "\n",
    "\"\"\"\n",
    "+와 extend 모두 결과는 같지만, a+b 는 새로운 리스트를 반환하면서,\n",
    "a, b 리스트는 그대로 유지된다.\n",
    "extend를 할경우, 원래의 리스트가 변경된다.\n",
    "\"\"\"\n",
    "\n",
    "c = a+b\n",
    "print('list a+b:', c, '\\nlist a:', a, '\\nlist b:',  b, )\n",
    "\n",
    "a.extend(b)\n",
    "print('\\nlist a:', a, '\\nlist b:', b)"
   ]
  },
  {
   "cell_type": "code",
   "execution_count": 380,
   "id": "23124e26-0437-4e01-9855-00d264703e63",
   "metadata": {},
   "outputs": [
    {
     "name": "stdout",
     "output_type": "stream",
     "text": [
      "481\n"
     ]
    }
   ],
   "source": [
    "#Q4 리스트 총합 구하기 (50점 이상만)\n",
    "\n",
    "A = [20,55,67,82,45,33,90,87,100,25]\n",
    "res = 0\n",
    "\n",
    "for i in A:\n",
    "    # 50이 넘는 경우에만 res에 계속해서 더함\n",
    "    if i > 50:\n",
    "        res += i\n",
    "    continue\n",
    "    \n",
    "print(res)   "
   ]
  },
  {
   "cell_type": "code",
   "execution_count": 455,
   "id": "16b0f6d3-ecec-46cd-8e3f-f76ee398fdae",
   "metadata": {},
   "outputs": [
    {
     "name": "stdout",
     "output_type": "stream",
     "text": [
      "0, 1, 1, 2, 3, 5, 8, 13, 21\n"
     ]
    }
   ],
   "source": [
    "#Q5 피노바치 수열: 이전의 두 항을 더한 값으로 이루어지는 수열 -> list \n",
    "\n",
    "\"\"\"\n",
    "Think\n",
    "\n",
    "0, 1이 있어야 두항을 더하면서 시작이 가능.\n",
    "입력받은 숫자만큼의 항까지 계속해서 더해야하니, 입력받은 수는 length로 활용\n",
    "이전의 두항 = [현재항]과 [현재-1항]\n",
    "\"\"\"\n",
    "\n",
    "def fib(num):\n",
    "    b = 0\n",
    "    res = [0]\n",
    "    for idx in range(num):\n",
    "        pre_idx = idx - 1  # 이전 항은 현재 항의 -1\n",
    "        \n",
    "        # 사실 아예 [0, 1]로 시작해도 상관은 없음. \n",
    "        # 0, 1이 있어야 피보나치 수열이 시작될 수 있음.\n",
    "        if idx == 0:  # 일단 나는 0일 때 1을 append 하도록 하였음. \n",
    "            b = 1    # 입력에 제한이 없도록 fib(0), fib(1)도 가능하도록..\n",
    "            res.append(b)\n",
    "            continue\n",
    "        # 위에 코드만 없으면 더 간결한 코드가 가능함.\n",
    "        # 아래 코드가 main\n",
    "        b = res[idx]+res[pre_idx]\n",
    "        res.append(b)\n",
    "        \n",
    "    # print(res)를 하면 리스트 형식으로 출력\n",
    "    print(', '.join(list(map(lambda x: str(x), res))))\n",
    "\n",
    "    \n",
    "fib(8)"
   ]
  },
  {
   "cell_type": "code",
   "execution_count": 386,
   "id": "389ed286-4374-4955-81b0-eadc14a9b89c",
   "metadata": {},
   "outputs": [
    {
     "name": "stdin",
     "output_type": "stream",
     "text": [
      "숫자 입력하셈: 65,45,2,3,45,8\n"
     ]
    },
    {
     "name": "stdout",
     "output_type": "stream",
     "text": [
      "168\n"
     ]
    }
   ],
   "source": [
    "#Q6 숫자의 총합 구하기 (숫자는 ,로 구분하여 입력한다)\n",
    "# input 65,45,2,3,45,8\n",
    "\n",
    "a = input('숫자 입력하셈:')\n",
    "\n",
    "# input을 숫자로 받았어도, 문자열이기 때문에, split가 가능함\n",
    "lst = a.split(',')\n",
    "res = 0\n",
    "\n",
    "for i in lst:\n",
    "    i = int(i) # int로 바꿔줘야 계산이 가능해짐\n",
    "    res += i\n",
    "    \n",
    "print(res)"
   ]
  },
  {
   "cell_type": "code",
   "execution_count": 758,
   "id": "93091e43-798b-4ded-9ced-f6739987ae6a",
   "metadata": {},
   "outputs": [
    {
     "name": "stdin",
     "output_type": "stream",
     "text": [
      "구구단 몇단을 출력할까요?(2~9): 5\n"
     ]
    },
    {
     "name": "stdout",
     "output_type": "stream",
     "text": [
      "5 10 15 20 25 30 35 40 45 "
     ]
    }
   ],
   "source": [
    "#Q7 한 줄 구구단\n",
    "\n",
    "\"\"\"\n",
    "Think\n",
    "\n",
    "입력받은 값만 출력 -> 그 외의 숫자는 다 패스해버리면 될 듯\n",
    "\"\"\"\n",
    "\n",
    "a = input('구구단 몇단을 출력할까요?(2~9):')\n",
    "\n",
    "# input은 문자열이므로, int로 변형\n",
    "a = int(a)\n",
    "\n",
    "for i in range(2,10):\n",
    "    # 입력한 수에 도달할 때까지 for문을 continue함  \n",
    "    # 책에서는 아주 쉽게, 그냥 입력받은 그 수를 곱해버림. 천잰데..?\n",
    "    if not a == i:\n",
    "        continue\n",
    "    # 입력한 수에 도달하게 되면, 1~9까지 곱해주며 출력\n",
    "    for j in range(1, 10):\n",
    "        print(i*j, end=' ')  # 한줄로 출력하기 위해서 end=' '를 사용함"
   ]
  },
  {
   "cell_type": "code",
   "execution_count": 762,
   "id": "89a09ea0-b698-4d80-b6e9-8f68ffa32fee",
   "metadata": {},
   "outputs": [
    {
     "name": "stdout",
     "output_type": "stream",
     "text": [
      "AAA\n",
      "\n",
      "BBB\n",
      "\n",
      "CCC\n",
      "\n",
      "DDD\n",
      "\n",
      "EEE\n",
      "\n"
     ]
    }
   ],
   "source": [
    "#Q8 파일을 읽어, 역순으로 저장\n",
    "\n",
    "with open('/Users/yeko/Desktop/netflix_TD/self_study/Study/TEST/0205/abc.txt', 'r') as fp:\n",
    "    a = fp.readlines()\n",
    "    # print(a)\n",
    "    a.reverse()\n",
    "    \n",
    "with open('/Users/yeko/Desktop/netflix_TD/self_study/Study/TEST/0205/abc.txt', 'w') as fp:\n",
    "    for i in a:\n",
    "        fp.write(i)\n",
    "        print(i)"
   ]
  },
  {
   "cell_type": "code",
   "execution_count": 764,
   "id": "27f51b1e-ab39-49eb-a9c4-8109891afb01",
   "metadata": {},
   "outputs": [
    {
     "name": "stdout",
     "output_type": "stream",
     "text": [
      "총합: 799\n",
      "평균값: 79.9\n"
     ]
    }
   ],
   "source": [
    "#Q9 파일을 읽고, 총합과 평균값을 구하여, 평균값을 result.txt에 작성하기\n",
    "\n",
    "with open('/Users/yeko/Desktop/netflix_TD/self_study/Study/TEST/0205/sample.txt', 'r') as fp:\n",
    "    # 한 줄마다 숫자가 적혀있으므로, readlines로 한 줄씩 읽어옴\n",
    "    a = fp.readlines()\n",
    "    add_n = 0\n",
    "    for i in a:  # a는 iterable list이므로 for i in a 가 가능함\n",
    "        i = int(i) # 읽어올 때마다 int로 변형하여 add_n에 저장하여 총합을 구함\n",
    "        add_n += i\n",
    "    print('총합:', add_n)\n",
    "\n",
    "div_n = add_n/len(a)  # 총합에 a의 길이만큼 나누어주면 평균값이 나옴\n",
    "print('평균값:', div_n)\n",
    "\n",
    "# 총합과 평균값을 result.txt에 작성함\n",
    "with open('/Users/yeko/Desktop/netflix_TD/self_study/Study/TEST/0205/result.txt', 'w') as fp:\n",
    "    fp.write(f'총합:{add_n}\\n평균값:{div_n}')"
   ]
  },
  {
   "cell_type": "code",
   "execution_count": 138,
   "id": "67a74013-0fb9-43e6-9b59-24315aa05102",
   "metadata": {},
   "outputs": [
    {
     "name": "stdout",
     "output_type": "stream",
     "text": [
      "15 3.0\n",
      "40 8.0\n"
     ]
    }
   ],
   "source": [
    "#Q10 계산기 클랫 만들기\n",
    "\n",
    "\"\"\"\n",
    "Think\n",
    "\n",
    "지금까지 해왔던대로 계산기 클래스 만들어보면 될 듯(but, 책이 원하는 답이 나오도록)\n",
    "\"\"\"\n",
    "\n",
    "class Calculator:\n",
    "    def __init__(self, lst):\n",
    "        self.lst = lst\n",
    "        self.res = 0\n",
    "\n",
    "    def sum(self):\n",
    "        for i in self.lst:\n",
    "            self.res += i\n",
    "        return self.res\n",
    "\n",
    "    def avg(self):\n",
    "        avg_n = self.res / len(self.lst)\n",
    "        return avg_n\n",
    "\n",
    "a = [1, 2, 3, 4, 5]\n",
    "b = [6, 7, 8, 9, 10]\n",
    "cal1 = Calculator(a)\n",
    "cal2 = Calculator(b)\n",
    "\n",
    "s1 = cal1.sum()\n",
    "a1 = cal1.avg()\n",
    "print(s1, a1)\n",
    "\n",
    "s2 = cal2.sum()\n",
    "a2 = cal2.avg()\n",
    "print(s2, a2)"
   ]
  },
  {
   "cell_type": "code",
   "execution_count": 390,
   "id": "1e705b9d-70d4-4548-aca0-15eb85c6667f",
   "metadata": {},
   "outputs": [],
   "source": [
    "#Q11, Q12는 패스"
   ]
  },
  {
   "cell_type": "code",
   "execution_count": 396,
   "id": "93f4f6de-f07a-4a69-9d18-ec839db5524a",
   "metadata": {},
   "outputs": [
    {
     "name": "stdout",
     "output_type": "stream",
     "text": [
      "454*67-9-3\n"
     ]
    }
   ],
   "source": [
    "#Q13 Dash Insert 함수\n",
    "\n",
    "# 홀수가 연속되면 - 추가, 짝수가 연속되면 * 추가\n",
    "# 입력 예시: 4546793\n",
    "# 출력 예시: 454*67-9-3\n",
    "\n",
    "\"\"\"\n",
    "Think\n",
    "\n",
    "문자를 버블함수처럼 하나씩 앞뒤로 비교하면서 *와 -를 추가해주는 방향으로 이루어져야 할 듯\n",
    "\"\"\"\n",
    "\n",
    "def dashinsert(num):\n",
    "    # num = str(num)\n",
    "    # lst = list()\n",
    "    # for i in range(len(num)):\n",
    "    #     lst.append(num[i])\n",
    "\n",
    "    # 위에 네줄을 작성하는 것과, 아래 list(map...)을 작성하는 것은 결국 같은 결과값을 가져옴\n",
    "    lst = list(map(lambda x: x, str(num)))  # -> list comprehension \n",
    "    res = list() # 결과값 리스트\n",
    "\n",
    "    for i in range(len(lst)-1):  \n",
    "        # -1을 하는 이유: 현재 숫자와 '다음 숫자'를 비교할것이고, '다음 숫자'는 [현재 index + 1] 이다.\n",
    "        # 현재 index가 리스트의 마지막 숫자에 도달하였을 때,\n",
    "        # [현재 index + 1]은 리스트를 벗어나버린다. 즉, out of range가 되면서, Index Error가 나온다.\n",
    "        # 그래서 -1을 해줘서 리스트를 벗어나지 않도록 해주는 것이다.\n",
    "        res.append(lst[i])\n",
    "        if int(lst[i])%2 == 0 and int(lst[i+1])%2 == 0: # 짝수일 경우\n",
    "            res.append('*')\n",
    "        elif int(lst[i])%2==1 and int(lst[i+1])%2==1: # 홀수일 경우\n",
    "            res.append('-')\n",
    "    res.append(lst[-1])  # 비교가 끝나고 for문을 벗어나면, 리스트의 마지막값[-1]을 리스트에 추가하고 끝\n",
    "    \n",
    "    print(''.join(res))  # 이미 문자열이므로 바로 join이 가능함\n",
    "            \n",
    "\n",
    "dashinsert(4546793)"
   ]
  },
  {
   "cell_type": "code",
   "execution_count": 397,
   "id": "af4a78f4-6197-46c4-9143-bfeb4ddab30e",
   "metadata": {},
   "outputs": [
    {
     "name": "stdout",
     "output_type": "stream",
     "text": [
      "454*67-9-3\n"
     ]
    }
   ],
   "source": [
    "#Q13 - teacher's code -> 분석 완\n",
    "\n",
    "def dash_insert():\n",
    "    ss = '4546793'  # 문자열로 이루어진 숫자로 시작함\n",
    "    idx = 0\n",
    "    res = list()\n",
    "    length = len(ss) - 1\n",
    "    \n",
    "    while True:\n",
    "        res.append(ss[idx])\n",
    "        next_idx = idx+1\n",
    "        curt_str = int(ss[idx])\n",
    "        next_str = int(ss[next_idx])\n",
    "\n",
    "        \n",
    "        # 8비트 이진수 AND(&)연산 : 0x01(= 0000 0001)은 '1'이다.\n",
    "        # 즉, 0x01를 어떤 숫자든지 AND연산을 하면 홀수인지 짝수인지를 거를 수 있게된다.\n",
    "        \n",
    "        if curt_str & 0x01 and next_str & 0x01: # 앞뒤 숫자가 홀수일 경우\n",
    "            res.append('-')\n",
    "        elif not (curt_str & 0x01) and not (next_str & 0x01): # 짝수일 경우\n",
    "            res.append('*')\n",
    "        idx += 1\n",
    "\n",
    "        # while문을 나가는 조건문\n",
    "        if idx >= length:  # idx가 len(ss)-1만큼 되었다는 것은 모든 숫자를 다 확인했다는 뜻\n",
    "            if idx == length: # 특히, 같을 경우 마지막 값을 리스트에 append\n",
    "                res.append(next_str)\n",
    "                # res.append(str(next_str))->str로 변환해서 append하면 아래의 lambda안써도 되더군\n",
    "            break\n",
    "\n",
    "    print(''.join(map(lambda x: str(x), res)))  # res 리스트의 값을 하나씩 가져오며, str로 변환+Join\n",
    "    \n",
    "    # a = ''.join(res)   -> str로 변화해서 append를 했다면 이렇게 할 수 있음.\n",
    "    # print(a)\n",
    "\n",
    "dash_insert()"
   ]
  },
  {
   "cell_type": "code",
   "execution_count": 90,
   "id": "2d5ff621-478f-4b66-bc9f-1c00d450f269",
   "metadata": {},
   "outputs": [
    {
     "name": "stdout",
     "output_type": "stream",
     "text": [
      "454*67-9-3\n"
     ]
    }
   ],
   "source": [
    "# 쌤 코드 그대로 따라치기 -> 이해 완\n",
    "\n",
    "def insert(num):\n",
    "    num = str(num)\n",
    "    res = list()\n",
    "    idx = 0\n",
    "    length = len(num) -1\n",
    "    while True:\n",
    "        res.append(num[idx])\n",
    "        next_idx = idx+1\n",
    "        curt_num = int(num[idx])\n",
    "        next_num = int(num[next_idx])\n",
    "        if curt_num & 0x01 and next_num&0x01:\n",
    "            res.append('-')\n",
    "        elif not curt_num & 0x01 and not next_num & 0x01:\n",
    "            res.append('*')\n",
    "        idx += 1\n",
    "        if idx >= length:\n",
    "            if idx == length:\n",
    "                res.append(next_num)\n",
    "            break\n",
    "    print(''.join(map(lambda x: str(x), res)))\n",
    "\n",
    "insert(4546793)"
   ]
  },
  {
   "cell_type": "code",
   "execution_count": 281,
   "id": "1cc0da0e-f8bb-4f8f-b61e-5d09aacb0355",
   "metadata": {},
   "outputs": [
    {
     "name": "stdout",
     "output_type": "stream",
     "text": [
      "a3b2c6a1\n"
     ]
    }
   ],
   "source": [
    "#Q14 문자열 압축하기 \n",
    "\n",
    "# 입력예시 aaabbcccccca\n",
    "# 출력예시 a3b2c6a1\n",
    "\n",
    "\"\"\"\n",
    "Think\n",
    "\n",
    "출력예시를 보고나니, 이전에 배운 '중복되는 단어 개수 세기'를 이용하면 안되겠다고 생각이 들었음\n",
    "만약, 딕셔너리를 사용해서 단어를 카운트하고 문자열로 변환하여 출력을 한다고 가정한다면\n",
    "a4b2c6이 되어버릴 것이기 떄문임. (즉, 앞에 있는 a3이랑 뒤에 있는 a1이 합쳐질 것)\n",
    "\n",
    "결국, 같은 문자가 반복되다가 다른 문자가 나왔을 때 다시 카운트를 해주는 것이 중요한 문제라고 생각하고 코드 구현함\n",
    "\"\"\"\n",
    "\n",
    "def compress_str(a: str):\n",
    "    lst = list(map(lambda x : x, a))  # 받은 문자열 하나씩 lst 리스트에 저장\n",
    "    cnt = 1\n",
    "    str_lst = []  # result를 담을 리스트\n",
    "    \n",
    "    for idx in range(len(lst)):\n",
    "        next_idx = idx + 1\n",
    "\n",
    "        # 인덱스를 벗어나 인덱스 에러가 나지 않도록, for문 종료 조건 부분\n",
    "        if next_idx >= len(lst):\n",
    "            # print('end',lst[idx])\n",
    "            str_lst.append(lst[idx])\n",
    "            str_lst.append(cnt)\n",
    "            break\n",
    "\n",
    "        # 현재 인덱스의 문자와 다음 인덱스의 문자가 같을 경우, count(cnt) + 1\n",
    "        if lst[idx] == lst[next_idx]:\n",
    "            # str_lst.append(lst[idx])\n",
    "            cnt += 1\n",
    "\n",
    "        # 현재 인덱스의 문자와 다음 인덱스의 문자가 다를 경우,\n",
    "        elif not lst[idx] == lst[next_idx]:\n",
    "            str_lst.append(lst[idx])  # 현재 인덱스의 문자 append (하나만 필요하니까)\n",
    "            str_lst.append(cnt)  # 지금까지 카운트한 값 append\n",
    "            cnt = 1 # 다른 문자를 만났으니 count(cnt)는 초기값으로 돌려놓아야 함\n",
    "            \n",
    "    str_lst = ''.join(list(map(lambda x : str(x), str_lst)))\n",
    "    print(str_lst)\n",
    "\n",
    "compress_str('aaabbcccccca')"
   ]
  },
  {
   "cell_type": "code",
   "execution_count": 491,
   "id": "98fdfb64-af8b-4814-8dec-42b91281835b",
   "metadata": {},
   "outputs": [
    {
     "name": "stdout",
     "output_type": "stream",
     "text": [
      "a3b2c6a1\n"
     ]
    }
   ],
   "source": [
    "# teacher's code\n",
    "# groupby를 활용하심 -> sorted로 인해 뒤에 있는 a까지 앞으로 와버림\n",
    "### groupby를 활용하면서도, 뒤에 있는 a가 앞으로 오지 않도록 할 수 있을까?\n",
    "\n",
    "def compress_str():\n",
    "    ss = 'aaabbbccca'\n",
    "    lst = list(sorted(map(lambda x: x, ss)))\n",
    "    # print(lst)\n",
    "    res = ''\n",
    "    for k, v in itertools.groupby(lst):\n",
    "        res = f'{res}{k}{len(list(v))}'\n",
    "    print(res)\n",
    "\n",
    "# compress_str()\n",
    "\n",
    "######### 수정해보기 ################\n",
    "\n",
    "def compress():\n",
    "    ss = 'aaabbcccccca'\n",
    "    lst = list(map(lambda x: x, ss))   # 와우, sorted만 지우면 되는거였얼,,,⭐️ 굉장해,,,\n",
    "    res = ''\n",
    "\n",
    "    # groupby를 쓰면 완전 간단 코드 가능\n",
    "    for k, v in itertools.groupby(lst):  \n",
    "        # groupby -> 연속된 경우에만 그룹을 생성시키는 것 같음. 연속되어 있지 않을시, 새로운 그룹을 만들어버림\n",
    "        # print(k, list(v))  -> 여기서 print 활성화시키면 아래 값이 0이 되어버림. \n",
    "        res = f'{res}{k}{len(list(v))}'  \n",
    "        # res에 계속 문자열을 추가하는 중. k = a, b, c, a \n",
    "        # len(list(v)) = 리스트의 길이 즉, 중복된 문자의 개수를 구할 수 있음\n",
    "        # print(res)  -> for문 안에서 print를 해보면, 계속해서 새롭게 문자열이 추가되는 것을 확인할 수 있음\n",
    "    print(res)\n",
    "\n",
    "compress()\n"
   ]
  },
  {
   "cell_type": "code",
   "execution_count": 614,
   "id": "f373b866-1b9b-4a2c-aa29-884986f860b1",
   "metadata": {},
   "outputs": [
    {
     "name": "stdin",
     "output_type": "stream",
     "text": [
      "0~9의 문자로 된 숫자를 입력하여 주세요.\n",
      "모든 숫자는 각 한번씩만 사용 가능합니다.\n",
      ">> 123\n"
     ]
    },
    {
     "name": "stdout",
     "output_type": "stream",
     "text": [
      "\n",
      "False입니다.\n"
     ]
    }
   ],
   "source": [
    "#Q15\n",
    "\n",
    "\"\"\"\n",
    "Think\n",
    "\n",
    "0~9을 하나씩 사용해야하니까, \n",
    "수의 길이는 10.\n",
    "0, 1, 2, 3, 4, 5, 6, 7, 8, 9 모두 사용이므로, 무슨 수를 넣어도 다 0~9 sort되면 될듯\n",
    "가장 먼저, 길이 안되면 false하고, True일 경우 하나씩 비교해서 반복되거나, 숫자 벗어나면 false\n",
    "\"\"\"\n",
    "\n",
    "def check_num()->bool:\n",
    "    num = input('0~9의 문자로 된 숫자를 입력하여 주세요.\\n모든 숫자는 각 한번씩만 사용 가능합니다.\\n>>')\n",
    "    if not len(num) == 10:\n",
    "        # 0~9하나씩만 썼으면 10개이기 때문에, 아닐 경우 false\n",
    "        return False\n",
    "\n",
    "    dic = {}\n",
    "    s_num = list(sorted(map(lambda x: x, num)))  \n",
    "    # 숫자를 하나씩만 썼으면, 0~9까지 있는것이므로, sorted로 정렬하여 0~9까지 대조.\n",
    "\n",
    "    for i in range(10):\n",
    "        # print(i, s_num[i])\n",
    "        if not str(i) == s_num[i]:\n",
    "            return False\n",
    "    return True\n",
    "    \n",
    "# 3829104756 -> True\n",
    "# 1234567890 -> True\n",
    "# 1234566789 -> False\n",
    "# 123 -> False#\n",
    "\n",
    "res = check_num()\n",
    "\n",
    "print(f'\\n{res}입니다.')"
   ]
  },
  {
   "cell_type": "code",
   "execution_count": 615,
   "id": "8d36d83c-9582-4183-af34-d7b3838d1480",
   "metadata": {},
   "outputs": [
    {
     "name": "stdout",
     "output_type": "stream",
     "text": [
      "HE SLEEPS EARLY "
     ]
    }
   ],
   "source": [
    "#Q16 모스 부호 해독 -> 단어와 단어 사이는 공백이 2개, 모스부호(문자)는 공백이 1개\n",
    "\n",
    "def decode_morsecode(mcode):\n",
    "    morse_code = {\n",
    "        '.-': 'A', '-...': 'B', '-.-.': 'C', '-..': 'D', '.': 'E', \n",
    "        '..-.': 'F', '--.': 'G', '....': 'H', '..': 'I', '.---': 'J',\n",
    "        '-.-': 'K', '.-..': 'L', '--': 'M', '-.': 'N', '---': 'O', \n",
    "        '.--.': 'P', '--.-': 'Q', '.-.': 'R', '...': 'S', '-': 'T',\n",
    "        '..-': 'U', '...-': 'V', '.--': 'W', '-..-': 'X', \n",
    "        '-.--': 'Y', '--..': 'Z'\n",
    "    }\n",
    "\n",
    "    mcode_word = mcode.split('  ')  # 공백 두개를 기준으로 word 분리\n",
    "    # 공백 한개를 기준으로 모스부호 하나씩 분리 -> 리스트 안에 리스트\n",
    "    mcode = list(map(lambda x: x.split(' '), mcode_word)) \n",
    "    \n",
    "    for word in mcode: \n",
    "        for mc in word:\n",
    "            print(morse_code[mc], end='')  # 모스부호 해석 및 출력\n",
    "        print(end =' ')  # 단어 사이의 띄어쓰기 출력\n",
    "\n",
    "aa = '.... .  ... .-.. . . .--. ...  . .- .-. .-.. -.--' \n",
    "\n",
    "decode_morsecode(aa)"
   ]
  },
  {
   "cell_type": "code",
   "execution_count": null,
   "id": "c5f97888-7cb8-429f-95c0-4b499145c402",
   "metadata": {},
   "outputs": [],
   "source": [
    "#Q17, Q18 pass"
   ]
  },
  {
   "cell_type": "code",
   "execution_count": 709,
   "id": "8bf24ef3-b652-454b-a81b-955c36abaff4",
   "metadata": {},
   "outputs": [
    {
     "name": "stdout",
     "output_type": "stream",
     "text": [
      "\n",
      "park 010-1234-####\n",
      "kim 010-5552-####\n",
      "ko 010-2712-####\n",
      "\n"
     ]
    }
   ],
   "source": [
    "#Q19 정규식 그루핑  :  함수 사용 \n",
    "\n",
    "import re\n",
    "\n",
    "def hide_num(a):\n",
    "    pattern = re.compile(\"(\\d{3}-\\d{4}-)\\d{4}\")\n",
    "    res= pattern.sub(r'\\1####', a)\n",
    "    print(res)\n",
    "\n",
    "\n",
    "num_b = \"\"\"\n",
    "park 010-1234-5678\n",
    "kim 010-5552-1124\n",
    "ko 010-2712-2676\n",
    "\"\"\"\n",
    "\n",
    "hide_num(num_b)"
   ]
  },
  {
   "cell_type": "code",
   "execution_count": 707,
   "id": "87361254-18e5-4f63-8e43-d545034a1fc1",
   "metadata": {},
   "outputs": [
    {
     "name": "stdout",
     "output_type": "stream",
     "text": [
      "\n",
      "park 010-1234-####\n",
      "kim 010-5552-####\n",
      "ko 010-2712-####\n",
      "\n"
     ]
    }
   ],
   "source": [
    "#Q19 정규식 그루핑  :  함수 미사용  / r'\\1' = \\g<1> 같은 결과값\n",
    "\n",
    "import re\n",
    "\n",
    "num = \"\"\"\n",
    "park 010-1234-5678\n",
    "kim 010-5552-1124\n",
    "ko 010-2712-2676\n",
    "\"\"\"\n",
    "\n",
    "pattern = re.compile(\"(\\d{3}-\\d{4}-)\\d{4}\")\n",
    "res = pattern.sub(\"\\g<1>####\", num)\n",
    "\n",
    "print(res)"
   ]
  },
  {
   "cell_type": "code",
   "execution_count": 751,
   "id": "c8eac551-a966-45c0-b33a-cdae0358ffd1",
   "metadata": {},
   "outputs": [
    {
     "name": "stdout",
     "output_type": "stream",
     "text": [
      "<re.Match object; span=(0, 12), match='kim@daum.com'>\n"
     ]
    }
   ],
   "source": [
    "#Q20 전방탐색 : 긍정형 전방 탐색 기법 -> (?=)  /  .com .net이 아닌 메일은 제외시키기\n",
    "\n",
    "#Think >>> r'.+[@]\\w+(?=[.]com$|[.]net$)' 로 하면 되지 않을까.... 라고 생각했는데 안된다.\n",
    "#전방탐색은, 그야말로 탐색. 탐색하는 부분은 출력에 포함되는 것이 아니었음. \n",
    "# 즉, com/net이 맞는지 탐색한 것까지는 맞고, 그 이후에 com/net이 출력될 수 있도록 적어줘야 함\n",
    "\n",
    "\"\"\"\n",
    "park@naver.com\n",
    "kim@daum.net\n",
    "lee@myhome.co.kr\n",
    "\"\"\"\n",
    "\n",
    "# 뒤에 \\w+$가 없으면 .com/.net은 출력이 되지 않음\n",
    "pattern = re.compile('.+[@]\\w+[.](?=com$|net$)\\w+$')  \n",
    "\n",
    "res = pattern.match('kim@daum.com')\n",
    "\n",
    "print(res)\n"
   ]
  }
 ],
 "metadata": {
  "kernelspec": {
   "display_name": "Python 3 (ipykernel)",
   "language": "python",
   "name": "python3"
  },
  "language_info": {
   "codemirror_mode": {
    "name": "ipython",
    "version": 3
   },
   "file_extension": ".py",
   "mimetype": "text/x-python",
   "name": "python",
   "nbconvert_exporter": "python",
   "pygments_lexer": "ipython3",
   "version": "3.11.7"
  }
 },
 "nbformat": 4,
 "nbformat_minor": 5
}
