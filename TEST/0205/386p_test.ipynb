{
 "cells": [
  {
   "cell_type": "code",
   "execution_count": 4,
   "id": "7a105eec-f85e-4cfc-adcd-aed28e499a4a",
   "metadata": {},
   "outputs": [
    {
     "name": "stdout",
     "output_type": "stream",
     "text": [
      "a#b#c#d\n"
     ]
    }
   ],
   "source": [
    "# Q1\n",
    "a = 'a:b:c:d'\n",
    "b = a.split(':')\n",
    "a = '#'.join(b)\n",
    "print(a)"
   ]
  },
  {
   "cell_type": "code",
   "execution_count": 7,
   "id": "ce1148bf-e280-4b7c-bd6f-7b31446cf7bc",
   "metadata": {},
   "outputs": [
    {
     "data": {
      "text/plain": [
       "70"
      ]
     },
     "execution_count": 7,
     "metadata": {},
     "output_type": "execute_result"
    }
   ],
   "source": [
    "#Q2\n",
    "a = {'A':90, 'B':80}\n",
    "a['C']=70\n",
    "a['C']"
   ]
  },
  {
   "cell_type": "code",
   "execution_count": 8,
   "id": "d0a33016-b6f6-4184-bb3c-edb9319fbf44",
   "metadata": {},
   "outputs": [],
   "source": [
    "#Q3\n",
    "a = [1, 2, 3]\n",
    "# + 와 extend의 차이점 설명\n",
    "# "
   ]
  },
  {
   "cell_type": "code",
   "execution_count": 10,
   "id": "23124e26-0437-4e01-9855-00d264703e63",
   "metadata": {},
   "outputs": [
    {
     "name": "stdout",
     "output_type": "stream",
     "text": [
      "481\n"
     ]
    }
   ],
   "source": [
    "#Q4\n",
    "A = [20,55,67,82,45,33,90,87,100,25]\n",
    "a = 0\n",
    "for i in A:\n",
    "    if i > 50:\n",
    "        a += i\n",
    "    continue\n",
    "print(a)   "
   ]
  },
  {
   "cell_type": "code",
   "execution_count": 3,
   "id": "16b0f6d3-ecec-46cd-8e3f-f76ee398fdae",
   "metadata": {},
   "outputs": [
    {
     "name": "stdout",
     "output_type": "stream",
     "text": [
      "[0, 1, 1, 2, 3, 5, 8, 13]\n"
     ]
    }
   ],
   "source": [
    "#Q5: 이전의 두 항을 더한 값으로 이루어지는 수열 -> list ?\n",
    "def fib(num):\n",
    "    b = 0\n",
    "    c = [0]\n",
    "    for i in range(num):\n",
    "        if i == 0:\n",
    "            b = 1\n",
    "            c.append(b)\n",
    "            continue\n",
    "        b = c[i]+c[i-1]\n",
    "        c.append(b)\n",
    "    print(c)\n",
    "    \n",
    "fib(7)"
   ]
  },
  {
   "cell_type": "code",
   "execution_count": 49,
   "id": "389ed286-4374-4955-81b0-eadc14a9b89c",
   "metadata": {},
   "outputs": [
    {
     "name": "stdin",
     "output_type": "stream",
     "text": [
      "숫자 입력하셈: 1,2\n"
     ]
    },
    {
     "name": "stdout",
     "output_type": "stream",
     "text": [
      "['1', '2']\n",
      "3\n"
     ]
    }
   ],
   "source": [
    "#Q6\n",
    "# input 65,45,2,3,45,8\n",
    "\n",
    "a = input('숫자 입력하셈:')\n",
    "lst = a.split(',')\n",
    "res = 0\n",
    "for i in lst:\n",
    "    i = int(i)\n",
    "    res += i\n",
    "print(res)"
   ]
  },
  {
   "cell_type": "code",
   "execution_count": 57,
   "id": "93091e43-798b-4ded-9ced-f6739987ae6a",
   "metadata": {},
   "outputs": [
    {
     "name": "stdin",
     "output_type": "stream",
     "text": [
      "구구단을 출력할 숫자를 입력하세요(2~9): 6\n"
     ]
    },
    {
     "name": "stdout",
     "output_type": "stream",
     "text": [
      "6 12 18 24 30 36 42 48 54 "
     ]
    }
   ],
   "source": [
    "#Q7\n",
    "a = input('구구단을 출력할 숫자를 입력하세요(2~9):')\n",
    "a = int(a)\n",
    "for i in range(2,10):\n",
    "    if not a == i:\n",
    "        continue\n",
    "    for j in range(1, 10):\n",
    "        print(i*j, end=' ')"
   ]
  },
  {
   "cell_type": "code",
   "execution_count": 106,
   "id": "89a09ea0-b698-4d80-b6e9-8f68ffa32fee",
   "metadata": {},
   "outputs": [
    {
     "name": "stdout",
     "output_type": "stream",
     "text": [
      "['EEE\\n', 'DDD\\n', 'CCC\\n', 'BBB\\n', 'AAA\\n']\n",
      "AAA\n",
      "\n",
      "BBB\n",
      "\n",
      "CCC\n",
      "\n",
      "DDD\n",
      "\n",
      "EEE\n",
      "\n"
     ]
    }
   ],
   "source": [
    "#Q8 역순으로 저장\n",
    "\n",
    "with open('/home/rapa/workspace/python/week_08/abc.txt', 'r') as fp:\n",
    "    a = fp.readlines()\n",
    "    print(a)\n",
    "    a.reverse()\n",
    "with open('/home/rapa/workspace/python/week_08/abc.txt', 'w') as fp:\n",
    "    for i in a:\n",
    "        fp.write(i)\n",
    "        print(i)"
   ]
  },
  {
   "cell_type": "code",
   "execution_count": 134,
   "id": "27f51b1e-ab39-49eb-a9c4-8109891afb01",
   "metadata": {},
   "outputs": [
    {
     "name": "stdout",
     "output_type": "stream",
     "text": [
      "총합: 799\n",
      "평균값: 79.9\n"
     ]
    }
   ],
   "source": [
    "#Q9\n",
    "with open('/home/rapa/workspace/python/week_08/sample.txt', 'r') as fp:\n",
    "    a = fp.readlines()\n",
    "    add_n = 0\n",
    "    for i in a:\n",
    "        i = int(i)\n",
    "        add_n += i\n",
    "    print('총합:', add_n)\n",
    "\n",
    "div_n = add_n/len(a)\n",
    "print('평균값:', div_n)\n",
    "# div_ns = str(div_n)\n",
    "\n",
    "with open('/home/rapa/workspace/python/week_08/result.txt', 'w') as fp:\n",
    "    fp.write(f\"\"\"총합:{add_n}\\n평균값:{div_n}\"\"\")"
   ]
  },
  {
   "cell_type": "code",
   "execution_count": 138,
   "id": "67a74013-0fb9-43e6-9b59-24315aa05102",
   "metadata": {},
   "outputs": [
    {
     "name": "stdout",
     "output_type": "stream",
     "text": [
      "15 3.0\n",
      "40 8.0\n"
     ]
    }
   ],
   "source": [
    "#Q10\n",
    "class Calculator:\n",
    "    def __init__(self, lst):\n",
    "        self.lst = lst\n",
    "        self.res = 0\n",
    "\n",
    "    def sum(self):\n",
    "        for i in self.lst:\n",
    "            self.res += i\n",
    "        return self.res\n",
    "\n",
    "    def avg(self):\n",
    "        avg_n = self.res / len(self.lst)\n",
    "        return avg_n\n",
    "\n",
    "a = [1, 2, 3, 4, 5]\n",
    "b = [6, 7, 8, 9, 10]\n",
    "cal1 = Calculator(a)\n",
    "cal2 = Calculator(b)\n",
    "\n",
    "s1 = cal1.sum()\n",
    "a1 = cal1.avg()\n",
    "print(s1, a1)\n",
    "\n",
    "s2 = cal2.sum()\n",
    "a2 = cal2.avg()\n",
    "print(s2, a2)"
   ]
  },
  {
   "cell_type": "code",
   "execution_count": 139,
   "id": "1e0ddefe-cc24-4c04-959d-e3ad168c553a",
   "metadata": {},
   "outputs": [
    {
     "data": {
      "text/plain": [
       "'\\ndoit 디렉토리에 __init__.py 파일을 만들어야 한다.\\n그 후, from doit import mymod 를 해준다.?\\n'"
      ]
     },
     "execution_count": 139,
     "metadata": {},
     "output_type": "execute_result"
    }
   ],
   "source": [
    "#Q11 모듈을 사용하는 방법\n",
    "\"\"\"\n",
    "doit 디렉토리에 __init__.py 파일을 만들어야 한다.\n",
    "그 후, from doit import mymod 를 해준다.?\n",
    "\"\"\""
   ]
  },
  {
   "cell_type": "code",
   "execution_count": 140,
   "id": "8c5b4b00-b3f6-4433-a773-a592fddbc723",
   "metadata": {},
   "outputs": [
    {
     "data": {
      "text/plain": [
       "'\\n[1, 2, 3][3]\\n을 가장 먼저 읽어올텐데,\\n[1, 2, 3]은 0, 1, 2 이기 떄문에 3이 없음\\nindex를 벗어난 인덱스 에러가 나올 것임\\n'"
      ]
     },
     "execution_count": 140,
     "metadata": {},
     "output_type": "execute_result"
    }
   ],
   "source": [
    "#Q12 실행결과 예측\n",
    "#indexError가 나올 것임\n",
    "\"\"\"\n",
    "[1, 2, 3][3]\n",
    "을 가장 먼저 읽어올텐데,\n",
    "[1, 2, 3]은 0, 1, 2 이기 떄문에 3이 없음\n",
    "index를 벗어난 인덱스 에러가 나올 것임\n",
    "\"\"\""
   ]
  },
  {
   "cell_type": "code",
   "execution_count": 14,
   "id": "93f4f6de-f07a-4a69-9d18-ec839db5524a",
   "metadata": {},
   "outputs": [
    {
     "name": "stdout",
     "output_type": "stream",
     "text": [
      "['4', '5', '6', '7', '9', '3']\n"
     ]
    }
   ],
   "source": [
    "#Q13\n",
    "# 홀수가 연속되면 - 추가, 짝수가 연속되면 * 추가\n",
    "# 입력 예시: 456793\n",
    "# 출력 예시: 454*67-9-3\n",
    "\n",
    "def dashinsert(num):\n",
    "    num = str(num)\n",
    "    # print(num[0])\n",
    "    # print(len(num))\n",
    "    lst = list()\n",
    "    for i in range(len(num)):\n",
    "        lst.append(num[i])\n",
    "    print(lst)\n",
    "\n",
    "dashinsert(456793)"
   ]
  },
  {
   "cell_type": "code",
   "execution_count": null,
   "id": "af4a78f4-6197-46c4-9143-bfeb4ddab30e",
   "metadata": {},
   "outputs": [],
   "source": [
    "\n"
   ]
  }
 ],
 "metadata": {
  "kernelspec": {
   "display_name": "Python 3 (ipykernel)",
   "language": "python",
   "name": "python3"
  },
  "language_info": {
   "codemirror_mode": {
    "name": "ipython",
    "version": 3
   },
   "file_extension": ".py",
   "mimetype": "text/x-python",
   "name": "python",
   "nbconvert_exporter": "python",
   "pygments_lexer": "ipython3",
   "version": "3.11.7"
  }
 },
 "nbformat": 4,
 "nbformat_minor": 5
}
